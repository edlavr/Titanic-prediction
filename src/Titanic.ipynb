{
 "cells": [
  {
   "cell_type": "markdown",
   "metadata": {
    "pycharm": {
     "name": "#%% md\n"
    }
   },
   "source": [
    "# Predicting Titanic Survival\n"
   ]
  },
  {
   "cell_type": "markdown",
   "metadata": {},
   "source": [
    "## Importing modules"
   ]
  },
  {
   "cell_type": "code",
   "execution_count": 2,
   "metadata": {
    "pycharm": {
     "name": "#%%\n"
    }
   },
   "outputs": [],
   "source": [
    "import numpy as np\n",
    "import matplotlib.pyplot as plt\n",
    "import pandas as pd\n",
    "from pyspark.ml import Pipeline\n",
    "from pyspark.ml.classification import DecisionTreeClassifier, LogisticRegression, RandomForestClassifier\n",
    "from pyspark.ml.evaluation import MulticlassClassificationEvaluator\n",
    "from pyspark.ml.feature import StringIndexer, VectorAssembler, MinMaxScaler\n",
    "from pyspark.ml.linalg import Vectors, VectorUDT\n",
    "from pyspark.sql import SparkSession\n",
    "from pyspark.sql.functions import col, udf"
   ]
  },
  {
   "cell_type": "markdown",
   "metadata": {
    "pycharm": {
     "name": "#%% md\n"
    }
   },
   "source": [
    "## Setting up Spark"
   ]
  },
  {
   "cell_type": "code",
   "execution_count": 4,
   "metadata": {
    "pycharm": {
     "name": "#%%\n"
    }
   },
   "outputs": [],
   "source": [
    "spark = SparkSession \\\n",
    "    .builder \\\n",
    "    .getOrCreate()"
   ]
  },
  {
   "cell_type": "markdown",
   "metadata": {
    "pycharm": {
     "name": "#%% md\n"
    }
   },
   "source": [
    "## Importing the dataset"
   ]
  },
  {
   "cell_type": "code",
   "execution_count": 5,
   "metadata": {
    "pycharm": {
     "name": "#%%\n"
    },
    "scrolled": true
   },
   "outputs": [
    {
     "name": "stdout",
     "output_type": "stream",
     "text": [
      "+-----------+--------+------+--------------------+------+----+-----+-----+----------------+-------+-----+--------+\n",
      "|PassengerId|Survived|Pclass|                Name|   Sex| Age|SibSp|Parch|          Ticket|   Fare|Cabin|Embarked|\n",
      "+-----------+--------+------+--------------------+------+----+-----+-----+----------------+-------+-----+--------+\n",
      "|          1|       0|     3|Braund, Mr. Owen ...|  male|22.0|    1|    0|       A/5 21171|   7.25| null|       S|\n",
      "|          2|       1|     1|Cumings, Mrs. Joh...|female|38.0|    1|    0|        PC 17599|71.2833|  C85|       C|\n",
      "|          3|       1|     3|Heikkinen, Miss. ...|female|26.0|    0|    0|STON/O2. 3101282|  7.925| null|       S|\n",
      "|          4|       1|     1|Futrelle, Mrs. Ja...|female|35.0|    1|    0|          113803|   53.1| C123|       S|\n",
      "|          5|       0|     3|Allen, Mr. Willia...|  male|35.0|    0|    0|          373450|   8.05| null|       S|\n",
      "|          6|       0|     3|    Moran, Mr. James|  male|null|    0|    0|          330877| 8.4583| null|       Q|\n",
      "|          7|       0|     1|McCarthy, Mr. Tim...|  male|54.0|    0|    0|           17463|51.8625|  E46|       S|\n",
      "|          8|       0|     3|Palsson, Master. ...|  male| 2.0|    3|    1|          349909| 21.075| null|       S|\n",
      "|          9|       1|     3|Johnson, Mrs. Osc...|female|27.0|    0|    2|          347742|11.1333| null|       S|\n",
      "|         10|       1|     2|Nasser, Mrs. Nich...|female|14.0|    1|    0|          237736|30.0708| null|       C|\n",
      "+-----------+--------+------+--------------------+------+----+-----+-----+----------------+-------+-----+--------+\n",
      "only showing top 10 rows\n",
      "\n"
     ]
    }
   ],
   "source": [
    "df = spark.read.option(\"header\", \"true\").option(\"inferSchema\", \"true\").csv('titanic.csv').cache()\n",
    "df.createOrReplaceTempView('df')\n",
    "df.show(10)"
   ]
  },
  {
   "cell_type": "markdown",
   "metadata": {
    "pycharm": {
     "name": "#%% md\n"
    }
   },
   "source": [
    "### Some people's age is missing in the database, so we delete rows with missing values."
   ]
  },
  {
   "cell_type": "code",
   "execution_count": 6,
   "metadata": {
    "pycharm": {
     "name": "#%%\n"
    }
   },
   "outputs": [
    {
     "name": "stdout",
     "output_type": "stream",
     "text": [
      "+-----------+--------+------+--------------------+------+----+-----+-----+----------------+-------+-----+--------+\n",
      "|PassengerId|Survived|Pclass|                Name|   Sex| Age|SibSp|Parch|          Ticket|   Fare|Cabin|Embarked|\n",
      "+-----------+--------+------+--------------------+------+----+-----+-----+----------------+-------+-----+--------+\n",
      "|          1|       0|     3|Braund, Mr. Owen ...|  male|22.0|    1|    0|       A/5 21171|   7.25| null|       S|\n",
      "|          2|       1|     1|Cumings, Mrs. Joh...|female|38.0|    1|    0|        PC 17599|71.2833|  C85|       C|\n",
      "|          3|       1|     3|Heikkinen, Miss. ...|female|26.0|    0|    0|STON/O2. 3101282|  7.925| null|       S|\n",
      "|          4|       1|     1|Futrelle, Mrs. Ja...|female|35.0|    1|    0|          113803|   53.1| C123|       S|\n",
      "|          5|       0|     3|Allen, Mr. Willia...|  male|35.0|    0|    0|          373450|   8.05| null|       S|\n",
      "|          7|       0|     1|McCarthy, Mr. Tim...|  male|54.0|    0|    0|           17463|51.8625|  E46|       S|\n",
      "|          8|       0|     3|Palsson, Master. ...|  male| 2.0|    3|    1|          349909| 21.075| null|       S|\n",
      "|          9|       1|     3|Johnson, Mrs. Osc...|female|27.0|    0|    2|          347742|11.1333| null|       S|\n",
      "|         10|       1|     2|Nasser, Mrs. Nich...|female|14.0|    1|    0|          237736|30.0708| null|       C|\n",
      "|         11|       1|     3|Sandstrom, Miss. ...|female| 4.0|    1|    1|         PP 9549|   16.7|   G6|       S|\n",
      "+-----------+--------+------+--------------------+------+----+-----+-----+----------------+-------+-----+--------+\n",
      "only showing top 10 rows\n",
      "\n"
     ]
    }
   ],
   "source": [
    "#df = df.fillna(round(df.select(avg(\"Age\")).collect()[0][0], 1), 'Age')\n",
    "# Replacing all 'null' values with the average age decreased the accuracy.\n",
    "\n",
    "df = df.where(col(\"Age\").isNotNull())\n",
    "df.show(10)"
   ]
  },
  {
   "cell_type": "markdown",
   "metadata": {
    "pycharm": {
     "name": "#%% md\n"
    }
   },
   "source": [
    "### We get rid of columns 'Name' (irrelevant), 'Ticket' (unstructured) and 'Cabin' (incomplete)"
   ]
  },
  {
   "cell_type": "code",
   "execution_count": 7,
   "metadata": {
    "pycharm": {
     "name": "#%%\n"
    }
   },
   "outputs": [
    {
     "name": "stdout",
     "output_type": "stream",
     "text": [
      "+-----------+--------+------+------+----+-----+-----+-------+--------+\n",
      "|PassengerId|Survived|Pclass|   Sex| Age|SibSp|Parch|   Fare|Embarked|\n",
      "+-----------+--------+------+------+----+-----+-----+-------+--------+\n",
      "|          1|       0|     3|  male|22.0|    1|    0|   7.25|       S|\n",
      "|          2|       1|     1|female|38.0|    1|    0|71.2833|       C|\n",
      "|          3|       1|     3|female|26.0|    0|    0|  7.925|       S|\n",
      "|          4|       1|     1|female|35.0|    1|    0|   53.1|       S|\n",
      "|          5|       0|     3|  male|35.0|    0|    0|   8.05|       S|\n",
      "+-----------+--------+------+------+----+-----+-----+-------+--------+\n",
      "only showing top 5 rows\n",
      "\n"
     ]
    }
   ],
   "source": [
    "df = df.drop('Name', 'Ticket', 'Cabin')\n",
    "df.show(5)"
   ]
  },
  {
   "cell_type": "markdown",
   "metadata": {
    "pycharm": {
     "name": "#%% md\n"
    }
   },
   "source": [
    "### 2 rows are missing 'Embarked' data. We can't do anything with missing values, so we just delete those rows"
   ]
  },
  {
   "cell_type": "code",
   "execution_count": 8,
   "metadata": {
    "pycharm": {
     "name": "#%%\n"
    }
   },
   "outputs": [
    {
     "name": "stdout",
     "output_type": "stream",
     "text": [
      "+--------+-----+\n",
      "|Embarked|count|\n",
      "+--------+-----+\n",
      "|       Q|   28|\n",
      "|    null|    2|\n",
      "|       C|  130|\n",
      "|       S|  554|\n",
      "+--------+-----+\n",
      "\n"
     ]
    }
   ],
   "source": [
    "df.groupBy(\"Embarked\").count().show()\n",
    "df = df.where(col(\"Embarked\").isNotNull())"
   ]
  },
  {
   "cell_type": "markdown",
   "metadata": {
    "pycharm": {
     "name": "#%% md\n"
    }
   },
   "source": [
    "## Graphs"
   ]
  },
  {
   "cell_type": "code",
   "execution_count": 9,
   "metadata": {},
   "outputs": [
    {
     "data": {
      "image/png": "[encoded data removed]",
      "text/plain": [
       "<Figure size 720x576 with 1 Axes>"
      ]
     },
     "metadata": {
      "needs_background": "light"
     },
     "output_type": "display_data"
    }
   ],
   "source": [
    "%matplotlib inline\n",
    "age = df.select(\"Age\").rdd.flatMap(lambda x: x).collect()\n",
    "plt.figure(figsize=[10,8])\n",
    "plt.hist(age, width = 4, color='#002d9c', bins=16)\n",
    "plt.grid(axis='y', alpha=0.5)\n",
    "plt.xlabel('Age',fontsize=15)\n",
    "plt.ylabel('Frequency',fontsize=15)\n",
    "plt.xticks(range(0,85, 5),fontsize=15)\n",
    "plt.yticks(fontsize=15)\n",
    "plt.title('Age Distribution Histogram',fontsize=20)\n",
    "plt.show()"
   ]
  },
  {
   "cell_type": "code",
   "execution_count": 10,
   "metadata": {},
   "outputs": [
    {
     "data": {
      "image/png": "[encoded data removed]",
      "text/plain": [
       "<Figure size 720x576 with 1 Axes>"
      ]
     },
     "metadata": {
      "needs_background": "light"
     },
     "output_type": "display_data"
    }
   ],
   "source": [
    "age = df.select(\"Age\").rdd.flatMap(lambda x: x).collect()\n",
    "survived = df.select(\"Survived\").rdd.flatMap(lambda x: x).collect()\n",
    "\n",
    "smdf = pd.DataFrame({'a':age, 's':survived})\n",
    "grouped = smdf.groupby('s')\n",
    "\n",
    "plt.figure(figsize=[10,8])\n",
    "plt.grid(axis='y', alpha=0.5)\n",
    "plt.xlabel('Age',fontsize=15)\n",
    "plt.ylabel('Frequency',fontsize=15)\n",
    "plt.xticks(range(0,85, 10),fontsize=15)\n",
    "plt.yticks(fontsize=15)\n",
    "plt.title('Age Distribution Histogram grouped by survival',fontsize=20)\n",
    "colors = ['#da1e28', '#198038']\n",
    "gr = []\n",
    "for group in grouped:\n",
    "    gr.append(group)\n",
    "\n",
    "plt.hist([gr[1][1].a,gr[0][1].a], bins=8, label=['survived', 'died'], color=['#198038','#da1e28'], density = False)\n",
    "\n",
    "plt.legend(loc='upper right',fontsize=15)\n",
    "plt.show()"
   ]
  },
  {
   "cell_type": "code",
   "execution_count": null,
   "metadata": {
    "collapsed": false,
    "pycharm": {
     "name": "#%%\n"
    }
   },
   "outputs": [],
   "source": [
    "sex = df.select(\"Sex\").rdd.flatMap(lambda x: x).collect()\n",
    "survived = df.select(\"Survived\").rdd.flatMap(lambda x: x).collect()\n",
    "\n",
    "smdf = pd.DataFrame({'sex':sex, 's':survived})\n",
    "grouped = smdf.groupby('sex')\n",
    "\n",
    "plt.figure(figsize=[10,8])\n",
    "plt.grid(axis='y', alpha=0.5)\n",
    "plt.ylabel('Frequency',fontsize=15)\n",
    "plt.xticks([0.165, 0.835],['survived','died'],fontsize=15)\n",
    "plt.yticks(fontsize=15)\n",
    "plt.title('Survival Distribution Histogram grouped by gender',fontsize=20)\n",
    "colors = ['#da1e28', '#198038']\n",
    "gr = []\n",
    "for group in grouped:\n",
    "    gr.append(group)\n",
    "\n",
    "bins = np.linspace(0,1,4)\n",
    "\n",
    "\n",
    "plt.hist([gr[1][1].s,gr[0][1].s], bins, label=['Female', 'Male'], color=['#ee5396','#4589ff'], density = False)\n",
    "\n",
    "plt.legend(loc='upper right',fontsize=15)\n",
    "plt.show()"
   ]
  },
  {
   "cell_type": "code",
   "execution_count": 11,
   "metadata": {},
   "outputs": [
    {
     "data": {
      "image/png": "[encoded data removed]",
      "text/plain": [
       "<Figure size 720x576 with 1 Axes>"
      ]
     },
     "metadata": {
      "needs_background": "light"
     },
     "output_type": "display_data"
    }
   ],
   "source": [
    "## Feature Extraction"
   ]
  },
  {
   "cell_type": "markdown",
   "metadata": {},
   "source": [
    "## Feature Extraction"
   ]
  },
  {
   "cell_type": "code",
   "execution_count": 12,
   "metadata": {
    "pycharm": {
     "name": "#%%\n"
    }
   },
   "outputs": [
    {
     "name": "stdout",
     "output_type": "stream",
     "text": [
      "+-----------+--------+------+------+----+-----+-----+-------+--------+----------+---------------+--------------------+--------------------+\n",
      "|PassengerId|Survived|Pclass|   Sex| Age|SibSp|Parch|   Fare|Embarked|indexedSex|indexedEmbarked|            features|     features_minmax|\n",
      "+-----------+--------+------+------+----+-----+-----+-------+--------+----------+---------------+--------------------+--------------------+\n",
      "|          1|       0|     3|  male|22.0|    1|    0|   7.25|       S|       0.0|            0.0|[3.0,0.0,22.0,1.0...|[1.0,0.0,0.271173...|\n",
      "|          2|       1|     1|female|38.0|    1|    0|71.2833|       C|       1.0|            1.0|[1.0,1.0,38.0,1.0...|[0.0,1.0,0.472229...|\n",
      "|          3|       1|     3|female|26.0|    0|    0|  7.925|       S|       1.0|            0.0|[3.0,1.0,26.0,0.0...|[1.0,1.0,0.321437...|\n",
      "|          4|       1|     1|female|35.0|    1|    0|   53.1|       S|       1.0|            0.0|[1.0,1.0,35.0,1.0...|[0.0,1.0,0.434531...|\n",
      "|          5|       0|     3|  male|35.0|    0|    0|   8.05|       S|       0.0|            0.0|(7,[0,2,5],[3.0,3...|[1.0,0.0,0.434531...|\n",
      "|          7|       0|     1|  male|54.0|    0|    0|51.8625|       S|       0.0|            0.0|(7,[0,2,5],[1.0,5...|[0.0,0.0,0.673284...|\n",
      "|          8|       0|     3|  male| 2.0|    3|    1| 21.075|       S|       0.0|            0.0|[3.0,0.0,2.0,3.0,...|[1.0,0.0,0.019854...|\n",
      "|          9|       1|     3|female|27.0|    0|    2|11.1333|       S|       1.0|            0.0|[3.0,1.0,27.0,0.0...|[1.0,1.0,0.334003...|\n",
      "|         10|       1|     2|female|14.0|    1|    0|30.0708|       C|       1.0|            1.0|[2.0,1.0,14.0,1.0...|[0.5,1.0,0.170645...|\n",
      "|         11|       1|     3|female| 4.0|    1|    1|   16.7|       S|       1.0|            0.0|[3.0,1.0,4.0,1.0,...|[1.0,1.0,0.044986...|\n",
      "+-----------+--------+------+------+----+-----+-----+-------+--------+----------+---------------+--------------------+--------------------+\n",
      "only showing top 10 rows\n",
      "\n"
     ]
    }
   ],
   "source": [
    "### gender string to numeral (male = 0, female = 1)\n",
    "genderIndexer = StringIndexer(inputCol=\"Sex\", outputCol=\"indexedSex\")\n",
    "# embarked string to numeral (S = 0, C = 1, Q = 2)\n",
    "embarkIndexer = StringIndexer(inputCol=\"Embarked\", outputCol=\"indexedEmbarked\")\n",
    "# features vector\n",
    "assembler = VectorAssembler(inputCols=[\"Pclass\",\"indexedSex\",\"Age\",\"SibSp\",\"Parch\",\"Fare\",\"indexedEmbarked\"],outputCol=\"features\")\n",
    "# standardising features\n",
    "minmaxscaler = MinMaxScaler(inputCol=\"features\", outputCol=\"features_minmax\")\n",
    "\n",
    "# put everything in a pipeline\n",
    "pipeline = Pipeline(stages=[genderIndexer, embarkIndexer, assembler, minmaxscaler])\n",
    "\n",
    "model = pipeline.fit(df).transform(df)\n",
    "\n",
    "# some features vectors are transformed to a sparse vector, so we make them dense.\n",
    "toDense = lambda v: Vectors.dense(v.toArray())\n",
    "toDenseUdf = udf(toDense, VectorUDT())\n",
    "model = model.withColumn('features_minmax', toDenseUdf('features_minmax'))\n",
    "\n",
    "model.show(10)"
   ]
  },
  {
   "cell_type": "markdown",
   "metadata": {},
   "source": [
    "## Discarding unnesessary columns"
   ]
  },
  {
   "cell_type": "code",
   "execution_count": 13,
   "metadata": {},
   "outputs": [
    {
     "name": "stdout",
     "output_type": "stream",
     "text": [
      "+-----------+--------+--------------------+\n",
      "|PassengerId|Survived|     features_minmax|\n",
      "+-----------+--------+--------------------+\n",
      "|          1|       0|[1.0,0.0,0.271173...|\n",
      "|          2|       1|[0.0,1.0,0.472229...|\n",
      "|          3|       1|[1.0,1.0,0.321437...|\n",
      "|          4|       1|[0.0,1.0,0.434531...|\n",
      "|          5|       0|[1.0,0.0,0.434531...|\n",
      "|          7|       0|[0.0,0.0,0.673284...|\n",
      "|          8|       0|[1.0,0.0,0.019854...|\n",
      "|          9|       1|[1.0,1.0,0.334003...|\n",
      "|         10|       1|[0.5,1.0,0.170645...|\n",
      "|         11|       1|[1.0,1.0,0.044986...|\n",
      "|         12|       1|[0.0,1.0,0.723548...|\n",
      "|         13|       0|[1.0,0.0,0.246041...|\n",
      "|         14|       0|[1.0,0.0,0.484795...|\n",
      "|         15|       0|[1.0,1.0,0.170645...|\n",
      "|         16|       1|[0.5,1.0,0.685850...|\n",
      "|         17|       0|[1.0,0.0,0.019854...|\n",
      "|         19|       0|[1.0,1.0,0.384267...|\n",
      "|         21|       0|[0.5,0.0,0.434531...|\n",
      "|         22|       1|[0.5,0.0,0.421965...|\n",
      "|         23|       1|[1.0,1.0,0.183211...|\n",
      "+-----------+--------+--------------------+\n",
      "only showing top 20 rows\n",
      "\n"
     ]
    }
   ],
   "source": [
    "dataset = model.select(['PassengerId', 'Survived', 'features_minmax'])\n",
    "dataset.show(20)"
   ]
  },
  {
   "cell_type": "markdown",
   "metadata": {},
   "source": [
    "## Splitting into training and validation datasets"
   ]
  },
  {
   "cell_type": "code",
   "execution_count": 14,
   "metadata": {
    "pycharm": {
     "name": "#%%\n"
    }
   },
   "outputs": [
    {
     "name": "stdout",
     "output_type": "stream",
     "text": [
      "598\n",
      "114\n"
     ]
    }
   ],
   "source": [
    "training, validation = dataset.randomSplit([0.8, 0.2], seed=42)\n",
    "print(training.count())\n",
    "print(validation.count())"
   ]
  },
  {
   "cell_type": "markdown",
   "metadata": {},
   "source": [
    "## Logistic Regression model"
   ]
  },
  {
   "cell_type": "code",
   "execution_count": 15,
   "metadata": {
    "pycharm": {
     "name": "#%%\n"
    }
   },
   "outputs": [
    {
     "name": "stdout",
     "output_type": "stream",
     "text": [
      "+-----------+--------+--------------------+--------------------+--------------------+----------+\n",
      "|PassengerId|Survived|     features_minmax|       rawPrediction|         probability|prediction|\n",
      "+-----------+--------+--------------------+--------------------+--------------------+----------+\n",
      "|          3|       1|[1.0,1.0,0.321437...|[-0.5054849696873...|[0.37625254900139...|       1.0|\n",
      "|          8|       0|[1.0,0.0,0.019854...|[1.92111426549215...|[0.87226263723811...|       0.0|\n",
      "|         10|       1|[0.5,1.0,0.170645...|[-2.0730825343503...|[0.11174071607601...|       1.0|\n",
      "|         15|       0|[1.0,1.0,0.170645...|[-1.0896517075517...|[0.25168386980555...|       1.0|\n",
      "|         23|       1|[1.0,1.0,0.183211...|[-1.0733657860876...|[0.25476353184897...|       1.0|\n",
      "+-----------+--------+--------------------+--------------------+--------------------+----------+\n",
      "only showing top 5 rows\n",
      "\n"
     ]
    }
   ],
   "source": [
    "lr = LogisticRegression(labelCol='Survived', featuresCol='features_minmax', maxIter=20)\n",
    "lr_model = lr.fit(training)\n",
    "lr_pred = lr_model.transform(validation)\n",
    "lr_pred.show(5)"
   ]
  },
  {
   "cell_type": "code",
   "execution_count": 16,
   "metadata": {
    "pycharm": {
     "name": "#%%\n"
    }
   },
   "outputs": [],
   "source": [
    "evaluator = MulticlassClassificationEvaluator(\n",
    "    predictionCol=\"prediction\", \n",
    "    labelCol=\"Survived\", \n",
    "    metricName=\"accuracy\")"
   ]
  },
  {
   "cell_type": "code",
   "execution_count": 17,
   "metadata": {},
   "outputs": [
    {
     "name": "stdout",
     "output_type": "stream",
     "text": [
      "Logistic Regression accuracy: 78.07%\n"
     ]
    }
   ],
   "source": [
    "lr_result = evaluator.evaluate(lr_pred)\n",
    "\n",
    "print('Logistic Regression accuracy: {}%'.format(str(round(lr_result*100,2))))"
   ]
  },
  {
   "cell_type": "markdown",
   "metadata": {},
   "source": [
    "## Decision Tree"
   ]
  },
  {
   "cell_type": "code",
   "execution_count": 18,
   "metadata": {},
   "outputs": [
    {
     "name": "stdout",
     "output_type": "stream",
     "text": [
      "+-----------+--------+--------------------+-------------+--------------------+----------+\n",
      "|PassengerId|Survived|     features_minmax|rawPrediction|         probability|prediction|\n",
      "+-----------+--------+--------------------+-------------+--------------------+----------+\n",
      "|          3|       1|[1.0,1.0,0.321437...|  [28.0,37.0]|[0.43076923076923...|       1.0|\n",
      "|          8|       0|[1.0,0.0,0.019854...|   [10.0,1.0]|[0.90909090909090...|       0.0|\n",
      "|         10|       1|[0.5,1.0,0.170645...|  [8.0,123.0]|[0.06106870229007...|       1.0|\n",
      "|         15|       0|[1.0,1.0,0.170645...|  [28.0,37.0]|[0.43076923076923...|       1.0|\n",
      "|         23|       1|[1.0,1.0,0.183211...|  [28.0,37.0]|[0.43076923076923...|       1.0|\n",
      "+-----------+--------+--------------------+-------------+--------------------+----------+\n",
      "only showing top 5 rows\n",
      "\n"
     ]
    }
   ],
   "source": [
    "dt = DecisionTreeClassifier(labelCol='Survived', featuresCol='features_minmax', maxDepth=3)\n",
    "dt_model = dt.fit(training)\n",
    "dt_pred = dt_model.transform(validation)\n",
    "dt_pred.show(5)"
   ]
  },
  {
   "cell_type": "code",
   "execution_count": 19,
   "metadata": {},
   "outputs": [
    {
     "name": "stdout",
     "output_type": "stream",
     "text": [
      "Decision Tree accuracy: 85.09%\n"
     ]
    }
   ],
   "source": [
    "dt_result = evaluator.evaluate(dt_pred)\n",
    "\n",
    "print('Decision Tree accuracy: {}%'.format(str(round(dt_result*100,2))))"
   ]
  },
  {
   "cell_type": "markdown",
   "metadata": {},
   "source": [
    "## Random Forest"
   ]
  },
  {
   "cell_type": "code",
   "execution_count": 20,
   "metadata": {},
   "outputs": [
    {
     "name": "stdout",
     "output_type": "stream",
     "text": [
      "+-----------+--------+--------------------+--------------------+--------------------+----------+\n",
      "|PassengerId|Survived|     features_minmax|       rawPrediction|         probability|prediction|\n",
      "+-----------+--------+--------------------+--------------------+--------------------+----------+\n",
      "|          3|       1|[1.0,1.0,0.321437...|[0.55696202531645...|[0.55696202531645...|       0.0|\n",
      "|          8|       0|[1.0,0.0,0.019854...|[0.77057356608478...|[0.77057356608478...|       0.0|\n",
      "|         10|       1|[0.5,1.0,0.170645...|       [0.056,0.944]|       [0.056,0.944]|       1.0|\n",
      "|         15|       0|[1.0,1.0,0.170645...|[0.55696202531645...|[0.55696202531645...|       0.0|\n",
      "|         23|       1|[1.0,1.0,0.183211...|[0.55696202531645...|[0.55696202531645...|       0.0|\n",
      "+-----------+--------+--------------------+--------------------+--------------------+----------+\n",
      "only showing top 5 rows\n",
      "\n"
     ]
    }
   ],
   "source": [
    "rf = RandomForestClassifier(numTrees=1, maxDepth=2, labelCol='Survived', featuresCol='features_minmax', seed=42)\n",
    "rf_model = rf.fit(training)\n",
    "rf_pred = rf_model.transform(validation)\n",
    "rf_pred.show(5)"
   ]
  },
  {
   "cell_type": "code",
   "execution_count": 21,
   "metadata": {},
   "outputs": [
    {
     "name": "stdout",
     "output_type": "stream",
     "text": [
      "Random Forest accuracy: 84.21%\n"
     ]
    }
   ],
   "source": [
    "rf_result = evaluator.evaluate(rf_pred)\n",
    "\n",
    "print('Random Forest accuracy: {}%'.format(str(round(rf_result*100,2))))"
   ]
  }
 ],
 "metadata": {
  "kernelspec": {
   "display_name": "Python 3.6",
   "language": "python",
   "name": "python3"
  },
  "language_info": {
   "codemirror_mode": {
    "name": "ipython",
    "version": 3
   },
   "file_extension": ".py",
   "mimetype": "text/x-python",
   "name": "python",
   "nbconvert_exporter": "python",
   "pygments_lexer": "ipython3",
   "version": "3.6.9"
  }
 },
 "nbformat": 4,
 "nbformat_minor": 1
}
